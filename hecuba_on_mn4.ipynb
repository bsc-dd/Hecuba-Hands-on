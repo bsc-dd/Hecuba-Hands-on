{
 "cells": [
  {
   "cell_type": "markdown",
   "metadata": {},
   "source": [
    "## Part 2\n",
    "\n",
    "### Exercise 3 - Parallelize an Hecuba app with COMPSs\n",
    "\n",
    "We will code and parallelize a program to perform distributed statistics over a dataset. Edit the file `distributed_stats.py` and add your code. You can use jupyter notebook to test your code.\n",
    "\n",
    "Once ready, copy your code to Marenostrum IV and perform the following steps on Marenostrum IV to submit a job to run your code:\n",
    "\n",
    "1) Load the environment"
   ]
  },
  {
   "cell_type": "code",
   "execution_count": null,
   "metadata": {},
   "outputs": [],
   "source": [
    "!module load java/8u131 intel/2017.4 mkl/2017.4 python/3.6.1  Hecuba/0.1.3\n",
    "\n",
    "!module load COMPSs"
   ]
  },
  {
   "cell_type": "markdown",
   "metadata": {},
   "source": [
    "2) Submit your code, the first time it will fail because it needs to create the default directories"
   ]
  },
  {
   "cell_type": "code",
   "execution_count": null,
   "metadata": {},
   "outputs": [],
   "source": [
    "c4s RUN -f -t=00:10:00 --appl=\"/home/bsc31/bsc31094/mn4/test_compss/sort.py /home/bsc31/bsc31094/mn4/test_compss/dataset.txt 5 600\"  --pycompss=\"--pythonpath=$PYTHONPATH:/home/bsc31/bsc31094/mn4/test_compss\" -nT=1 --qos=debug"
   ]
  },
  {
   "cell_type": "markdown",
   "metadata": {},
   "source": [
    "To check the logs on MN4"
   ]
  },
  {
   "cell_type": "code",
   "execution_count": 3,
   "metadata": {},
   "outputs": [
    {
     "name": "stdout",
     "output_type": "stream",
     "text": [
      "ls: cannot access '/home/polsm/.c4s/logs/': No such file or directory\r\n"
     ]
    }
   ],
   "source": [
    "ls -ltr ~/.c4s/logs/"
   ]
  },
  {
   "cell_type": "markdown",
   "metadata": {},
   "source": [
    "On  Marenostrum IV terminal you can also execute these commands. They will provide commands to check the logs more easily"
   ]
  },
  {
   "cell_type": "code",
   "execution_count": 4,
   "metadata": {},
   "outputs": [
    {
     "ename": "SyntaxError",
     "evalue": "invalid syntax (<ipython-input-4-cabeaa678282>, line 1)",
     "output_type": "error",
     "traceback": [
      "\u001b[0;36m  File \u001b[0;32m\"<ipython-input-4-cabeaa678282>\"\u001b[0;36m, line \u001b[0;32m1\u001b[0m\n\u001b[0;31m    alias last='tail -f ls .c4s/logs/*.out  -t | head -1'\u001b[0m\n\u001b[0m             ^\u001b[0m\n\u001b[0;31mSyntaxError\u001b[0m\u001b[0;31m:\u001b[0m invalid syntax\n"
     ]
    }
   ],
   "source": [
    "alias last='tail -f ls .c4s/logs/*.out  -t | head -1'\n",
    "alias lastvim='vim ls .c4s/logs/*.out  -t | head -1'\n",
    "alias laste='tail -f ls .c4s/logs/*.err  -t | head -1'\n",
    "alias lastevim='vim ls .c4s/logs/*.err  -t | head -1'"
   ]
  },
  {
   "cell_type": "code",
   "execution_count": null,
   "metadata": {},
   "outputs": [],
   "source": []
  }
 ],
 "metadata": {
  "kernelspec": {
   "display_name": "Python 3",
   "language": "python",
   "name": "python3"
  },
  "language_info": {
   "codemirror_mode": {
    "name": "ipython",
    "version": 3
   },
   "file_extension": ".py",
   "mimetype": "text/x-python",
   "name": "python",
   "nbconvert_exporter": "python",
   "pygments_lexer": "ipython3",
   "version": "3.7.6"
  }
 },
 "nbformat": 4,
 "nbformat_minor": 2
}
