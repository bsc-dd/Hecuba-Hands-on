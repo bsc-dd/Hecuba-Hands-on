{
 "cells": [
  {
   "cell_type": "markdown",
   "metadata": {},
   "source": [
    "## Part 2\n",
    "\n",
    "### Exercise 3 - Parallelize an Hecuba app with COMPSs\n",
    "\n",
    "We will code and parallelize a program to perform distributed statistics over a dataset. Edit the file `distributed_stats.py` and add your code. You can use jupyter notebook to test your code.\n",
    "\n",
    "Once ready, copy your code to Marenostrum IV and perform the following steps on Marenostrum IV to submit a job to run your code:\n",
    "\n",
    "1) Load the environment"
   ]
  },
  {
   "cell_type": "code",
   "execution_count": null,
   "metadata": {},
   "outputs": [],
   "source": [
    "!module load java/8u131 intel/2017.4 mkl/2017.4 python/3.6.1  Hecuba/0.1.3\n",
    "\n",
    "!module load COMPSs"
   ]
  },
  {
   "cell_type": "markdown",
   "metadata": {},
   "source": [
    "2) Submit your code"
   ]
  },
  {
   "cell_type": "code",
   "execution_count": null,
   "metadata": {},
   "outputs": [],
   "source": [
    "!enqueue_compss --qos=debug -d --pythonpath=$PYTHONPATH:$PWD --python_interpreter=python3 --storage_home=$HECUBA_ROOT --storage_props=$HECUBA_ROOT/scripts/bla.txt --classpath=$CLASSPATH $PWD/distributed_stats.py\n",
    "    \n",
    "# Or in emergency cases\n",
    "\n",
    "!c4s RUN -t=00:20:00 --appl=\"$PWD/distributed_stats.py\"  --pycompss=\" -d --pythonpath=$PYTHONPATH:$PWD --python_interpreter=python3\" -nC=2 -nA=2 --qos=debug"
   ]
  },
  {
   "cell_type": "markdown",
   "metadata": {},
   "source": [
    "3) Check the output"
   ]
  },
  {
   "cell_type": "code",
   "execution_count": null,
   "metadata": {},
   "outputs": [],
   "source": [
    "!ljob_out\n",
    "!ljob_err"
   ]
  },
  {
   "cell_type": "markdown",
   "metadata": {},
   "source": [
    "4) You can also connect to the Cassandra nodes"
   ]
  },
  {
   "cell_type": "code",
   "execution_count": null,
   "metadata": {},
   "outputs": [],
   "source": [
    "!CASS_IP=$(get_cassnode_ip $JOBID)\n",
    "!cqlsh $CASS_IP"
   ]
  }
 ],
 "metadata": {
  "kernelspec": {
   "display_name": "Python 3",
   "language": "python",
   "name": "python3"
  },
  "language_info": {
   "codemirror_mode": {
    "name": "ipython",
    "version": 3
   },
   "file_extension": ".py",
   "mimetype": "text/x-python",
   "name": "python",
   "nbconvert_exporter": "python",
   "pygments_lexer": "ipython3",
   "version": "3.7.6"
  }
 },
 "nbformat": 4,
 "nbformat_minor": 2
}
